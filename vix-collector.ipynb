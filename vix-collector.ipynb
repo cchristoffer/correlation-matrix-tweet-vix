{
 "cells": [
  {
   "cell_type": "code",
   "execution_count": 4,
   "id": "3d69c23b",
   "metadata": {},
   "outputs": [],
   "source": [
    "import yfinance as yf\n",
    "import pandas as pd"
   ]
  },
  {
   "cell_type": "code",
   "execution_count": 2,
   "id": "dc256175",
   "metadata": {},
   "outputs": [],
   "source": [
    "data = yf.Ticker(\"^VIX\").history(period='6d')"
   ]
  },
  {
   "cell_type": "code",
   "execution_count": 16,
   "id": "5710dd41",
   "metadata": {},
   "outputs": [],
   "source": [
    "df = pd.DataFrame(data)"
   ]
  },
  {
   "cell_type": "code",
   "execution_count": 19,
   "id": "744e8ecd",
   "metadata": {},
   "outputs": [],
   "source": [
    "df = df.drop(df.index[0])"
   ]
  },
  {
   "cell_type": "code",
   "execution_count": 23,
   "id": "8786f29c",
   "metadata": {},
   "outputs": [],
   "source": [
    "df = df.drop(labels=['Volume', 'Dividends', 'Stock Splits'], axis=1)"
   ]
  },
  {
   "cell_type": "code",
   "execution_count": 24,
   "id": "1ad6d887",
   "metadata": {},
   "outputs": [
    {
     "data": {
      "text/html": [
       "<div>\n",
       "<style scoped>\n",
       "    .dataframe tbody tr th:only-of-type {\n",
       "        vertical-align: middle;\n",
       "    }\n",
       "\n",
       "    .dataframe tbody tr th {\n",
       "        vertical-align: top;\n",
       "    }\n",
       "\n",
       "    .dataframe thead th {\n",
       "        text-align: right;\n",
       "    }\n",
       "</style>\n",
       "<table border=\"1\" class=\"dataframe\">\n",
       "  <thead>\n",
       "    <tr style=\"text-align: right;\">\n",
       "      <th></th>\n",
       "      <th>Open</th>\n",
       "      <th>High</th>\n",
       "      <th>Low</th>\n",
       "      <th>Close</th>\n",
       "    </tr>\n",
       "    <tr>\n",
       "      <th>Date</th>\n",
       "      <th></th>\n",
       "      <th></th>\n",
       "      <th></th>\n",
       "      <th></th>\n",
       "    </tr>\n",
       "  </thead>\n",
       "  <tbody>\n",
       "    <tr>\n",
       "      <th>2022-03-16</th>\n",
       "      <td>29.020000</td>\n",
       "      <td>29.799999</td>\n",
       "      <td>26.290001</td>\n",
       "      <td>26.670000</td>\n",
       "    </tr>\n",
       "    <tr>\n",
       "      <th>2022-03-17</th>\n",
       "      <td>26.510000</td>\n",
       "      <td>27.469999</td>\n",
       "      <td>25.250000</td>\n",
       "      <td>25.670000</td>\n",
       "    </tr>\n",
       "    <tr>\n",
       "      <th>2022-03-18</th>\n",
       "      <td>26.360001</td>\n",
       "      <td>26.820000</td>\n",
       "      <td>23.850000</td>\n",
       "      <td>23.870001</td>\n",
       "    </tr>\n",
       "    <tr>\n",
       "      <th>2022-03-21</th>\n",
       "      <td>25.139999</td>\n",
       "      <td>25.360001</td>\n",
       "      <td>22.990000</td>\n",
       "      <td>23.530001</td>\n",
       "    </tr>\n",
       "    <tr>\n",
       "      <th>2022-03-22</th>\n",
       "      <td>24.020000</td>\n",
       "      <td>24.020000</td>\n",
       "      <td>22.700001</td>\n",
       "      <td>22.940001</td>\n",
       "    </tr>\n",
       "  </tbody>\n",
       "</table>\n",
       "</div>"
      ],
      "text/plain": [
       "                 Open       High        Low      Close\n",
       "Date                                                  \n",
       "2022-03-16  29.020000  29.799999  26.290001  26.670000\n",
       "2022-03-17  26.510000  27.469999  25.250000  25.670000\n",
       "2022-03-18  26.360001  26.820000  23.850000  23.870001\n",
       "2022-03-21  25.139999  25.360001  22.990000  23.530001\n",
       "2022-03-22  24.020000  24.020000  22.700001  22.940001"
      ]
     },
     "execution_count": 24,
     "metadata": {},
     "output_type": "execute_result"
    }
   ],
   "source": [
    "df"
   ]
  },
  {
   "cell_type": "code",
   "execution_count": 25,
   "id": "ecf4dc6c",
   "metadata": {},
   "outputs": [],
   "source": [
    "df.to_csv(\"vix.csv\",index=False)"
   ]
  }
 ],
 "metadata": {
  "kernelspec": {
   "display_name": "Python 3 (ipykernel)",
   "language": "python",
   "name": "python3"
  },
  "language_info": {
   "codemirror_mode": {
    "name": "ipython",
    "version": 3
   },
   "file_extension": ".py",
   "mimetype": "text/x-python",
   "name": "python",
   "nbconvert_exporter": "python",
   "pygments_lexer": "ipython3",
   "version": "3.9.7"
  }
 },
 "nbformat": 4,
 "nbformat_minor": 5
}
