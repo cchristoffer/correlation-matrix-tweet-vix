{
 "cells": [
  {
   "cell_type": "code",
   "execution_count": 1,
   "id": "e66686a4",
   "metadata": {},
   "outputs": [],
   "source": [
    "import os\n",
    "import pandas as pd\n",
    "import matplotlib.pyplot as plt\n",
    "import seaborn as sns"
   ]
  },
  {
   "cell_type": "markdown",
   "id": "7303cb54",
   "metadata": {},
   "source": [
    "# Correlation Matrix between occurence of war in tweets and daily return on VIX"
   ]
  },
  {
   "cell_type": "code",
   "execution_count": 2,
   "id": "b0876947",
   "metadata": {},
   "outputs": [],
   "source": [
    "startingDays = [\n",
    "              \"2022-03-16T00:00:00Z\",\n",
    "              \"2022-03-17T00:00:00Z\",\n",
    "              \"2022-03-18T00:00:00Z\",\n",
    "              \"2022-03-21T00:00:00Z\",\n",
    "              \"2022-03-22T00:00:00Z\",\n",
    "]"
   ]
  },
  {
   "cell_type": "code",
   "execution_count": 3,
   "id": "406e7889",
   "metadata": {},
   "outputs": [
    {
     "data": {
      "text/html": [
       "<div>\n",
       "<style scoped>\n",
       "    .dataframe tbody tr th:only-of-type {\n",
       "        vertical-align: middle;\n",
       "    }\n",
       "\n",
       "    .dataframe tbody tr th {\n",
       "        vertical-align: top;\n",
       "    }\n",
       "\n",
       "    .dataframe thead th {\n",
       "        text-align: right;\n",
       "    }\n",
       "</style>\n",
       "<table border=\"1\" class=\"dataframe\">\n",
       "  <thead>\n",
       "    <tr style=\"text-align: right;\">\n",
       "      <th></th>\n",
       "      <th>text</th>\n",
       "      <th>date</th>\n",
       "    </tr>\n",
       "  </thead>\n",
       "  <tbody>\n",
       "    <tr>\n",
       "      <th>count</th>\n",
       "      <td>766578</td>\n",
       "      <td>766578</td>\n",
       "    </tr>\n",
       "    <tr>\n",
       "      <th>unique</th>\n",
       "      <td>741473</td>\n",
       "      <td>5</td>\n",
       "    </tr>\n",
       "    <tr>\n",
       "      <th>top</th>\n",
       "      <td>Tigray is facing mass starvation induced by th...</td>\n",
       "      <td>2022-03-16T00:00:00Z</td>\n",
       "    </tr>\n",
       "    <tr>\n",
       "      <th>freq</th>\n",
       "      <td>1278</td>\n",
       "      <td>177226</td>\n",
       "    </tr>\n",
       "  </tbody>\n",
       "</table>\n",
       "</div>"
      ],
      "text/plain": [
       "                                                     text  \\\n",
       "count                                              766578   \n",
       "unique                                             741473   \n",
       "top     Tigray is facing mass starvation induced by th...   \n",
       "freq                                                 1278   \n",
       "\n",
       "                        date  \n",
       "count                 766578  \n",
       "unique                     5  \n",
       "top     2022-03-16T00:00:00Z  \n",
       "freq                  177226  "
      ]
     },
     "execution_count": 3,
     "metadata": {},
     "output_type": "execute_result"
    }
   ],
   "source": [
    "warDf = pd.read_csv('war.csv', delimiter='␀', engine='python')\n",
    "warDf.describe()"
   ]
  },
  {
   "cell_type": "code",
   "execution_count": 4,
   "id": "be0615e0",
   "metadata": {},
   "outputs": [
    {
     "data": {
      "text/html": [
       "<div>\n",
       "<style scoped>\n",
       "    .dataframe tbody tr th:only-of-type {\n",
       "        vertical-align: middle;\n",
       "    }\n",
       "\n",
       "    .dataframe tbody tr th {\n",
       "        vertical-align: top;\n",
       "    }\n",
       "\n",
       "    .dataframe thead th {\n",
       "        text-align: right;\n",
       "    }\n",
       "</style>\n",
       "<table border=\"1\" class=\"dataframe\">\n",
       "  <thead>\n",
       "    <tr style=\"text-align: right;\">\n",
       "      <th></th>\n",
       "      <th>Open</th>\n",
       "      <th>High</th>\n",
       "      <th>Low</th>\n",
       "      <th>Close</th>\n",
       "    </tr>\n",
       "  </thead>\n",
       "  <tbody>\n",
       "    <tr>\n",
       "      <th>0</th>\n",
       "      <td>29.020000</td>\n",
       "      <td>29.799999</td>\n",
       "      <td>26.290001</td>\n",
       "      <td>26.670000</td>\n",
       "    </tr>\n",
       "    <tr>\n",
       "      <th>1</th>\n",
       "      <td>26.510000</td>\n",
       "      <td>27.469999</td>\n",
       "      <td>25.250000</td>\n",
       "      <td>25.670000</td>\n",
       "    </tr>\n",
       "    <tr>\n",
       "      <th>2</th>\n",
       "      <td>26.360001</td>\n",
       "      <td>26.820000</td>\n",
       "      <td>23.850000</td>\n",
       "      <td>23.870001</td>\n",
       "    </tr>\n",
       "    <tr>\n",
       "      <th>3</th>\n",
       "      <td>25.139999</td>\n",
       "      <td>25.360001</td>\n",
       "      <td>22.990000</td>\n",
       "      <td>23.530001</td>\n",
       "    </tr>\n",
       "    <tr>\n",
       "      <th>4</th>\n",
       "      <td>24.020000</td>\n",
       "      <td>24.020000</td>\n",
       "      <td>22.700001</td>\n",
       "      <td>22.940001</td>\n",
       "    </tr>\n",
       "  </tbody>\n",
       "</table>\n",
       "</div>"
      ],
      "text/plain": [
       "        Open       High        Low      Close\n",
       "0  29.020000  29.799999  26.290001  26.670000\n",
       "1  26.510000  27.469999  25.250000  25.670000\n",
       "2  26.360001  26.820000  23.850000  23.870001\n",
       "3  25.139999  25.360001  22.990000  23.530001\n",
       "4  24.020000  24.020000  22.700001  22.940001"
      ]
     },
     "execution_count": 4,
     "metadata": {},
     "output_type": "execute_result"
    }
   ],
   "source": [
    "vixDf = pd.read_csv('vix.csv', engine='python')\n",
    "vixDf"
   ]
  },
  {
   "cell_type": "code",
   "execution_count": 5,
   "id": "569f337f",
   "metadata": {},
   "outputs": [],
   "source": [
    "for i in vixDf.index:\n",
    "    vixDf.at[i, 'Daily Return']=vixDf.at[i, 'Close']-vixDf.at[i, 'Open'].astype(float)"
   ]
  },
  {
   "cell_type": "code",
   "execution_count": 6,
   "id": "399f18ba",
   "metadata": {},
   "outputs": [],
   "source": [
    "march16 = warDf[warDf['date'] == \"2022-03-16T00:00:00Z\"]"
   ]
  },
  {
   "cell_type": "code",
   "execution_count": 7,
   "id": "f57eeac2",
   "metadata": {},
   "outputs": [
    {
     "data": {
      "text/html": [
       "<div>\n",
       "<style scoped>\n",
       "    .dataframe tbody tr th:only-of-type {\n",
       "        vertical-align: middle;\n",
       "    }\n",
       "\n",
       "    .dataframe tbody tr th {\n",
       "        vertical-align: top;\n",
       "    }\n",
       "\n",
       "    .dataframe thead th {\n",
       "        text-align: right;\n",
       "    }\n",
       "</style>\n",
       "<table border=\"1\" class=\"dataframe\">\n",
       "  <thead>\n",
       "    <tr style=\"text-align: right;\">\n",
       "      <th></th>\n",
       "      <th>war tweets</th>\n",
       "      <th>date</th>\n",
       "      <th>daily return</th>\n",
       "    </tr>\n",
       "  </thead>\n",
       "  <tbody>\n",
       "  </tbody>\n",
       "</table>\n",
       "</div>"
      ],
      "text/plain": [
       "Empty DataFrame\n",
       "Columns: [war tweets, date, daily return]\n",
       "Index: []"
      ]
     },
     "execution_count": 7,
     "metadata": {},
     "output_type": "execute_result"
    }
   ],
   "source": [
    "warTweetCount = pd.DataFrame(columns=['war tweets', 'date', 'daily return'])\n",
    "warTweetCount"
   ]
  },
  {
   "cell_type": "code",
   "execution_count": 8,
   "id": "62dcb125",
   "metadata": {},
   "outputs": [],
   "source": [
    "lst = []\n",
    "for i in range(len(startingDays)):\n",
    "    count = len(warDf[warDf['date'] == startingDays[i]])\n",
    "    warTweetCount.loc[i] = count, startingDays[i], vixDf.at[i, 'Daily Return']"
   ]
  },
  {
   "cell_type": "code",
   "execution_count": 9,
   "id": "b96a632e",
   "metadata": {},
   "outputs": [
    {
     "data": {
      "text/html": [
       "<div>\n",
       "<style scoped>\n",
       "    .dataframe tbody tr th:only-of-type {\n",
       "        vertical-align: middle;\n",
       "    }\n",
       "\n",
       "    .dataframe tbody tr th {\n",
       "        vertical-align: top;\n",
       "    }\n",
       "\n",
       "    .dataframe thead th {\n",
       "        text-align: right;\n",
       "    }\n",
       "</style>\n",
       "<table border=\"1\" class=\"dataframe\">\n",
       "  <thead>\n",
       "    <tr style=\"text-align: right;\">\n",
       "      <th></th>\n",
       "      <th>war tweets</th>\n",
       "      <th>date</th>\n",
       "      <th>daily return</th>\n",
       "    </tr>\n",
       "  </thead>\n",
       "  <tbody>\n",
       "    <tr>\n",
       "      <th>0</th>\n",
       "      <td>177226</td>\n",
       "      <td>2022-03-16T00:00:00Z</td>\n",
       "      <td>-2.350000</td>\n",
       "    </tr>\n",
       "    <tr>\n",
       "      <th>1</th>\n",
       "      <td>167322</td>\n",
       "      <td>2022-03-17T00:00:00Z</td>\n",
       "      <td>-0.840000</td>\n",
       "    </tr>\n",
       "    <tr>\n",
       "      <th>2</th>\n",
       "      <td>158344</td>\n",
       "      <td>2022-03-18T00:00:00Z</td>\n",
       "      <td>-2.490000</td>\n",
       "    </tr>\n",
       "    <tr>\n",
       "      <th>3</th>\n",
       "      <td>136425</td>\n",
       "      <td>2022-03-21T00:00:00Z</td>\n",
       "      <td>-1.609999</td>\n",
       "    </tr>\n",
       "    <tr>\n",
       "      <th>4</th>\n",
       "      <td>127261</td>\n",
       "      <td>2022-03-22T00:00:00Z</td>\n",
       "      <td>-1.080000</td>\n",
       "    </tr>\n",
       "  </tbody>\n",
       "</table>\n",
       "</div>"
      ],
      "text/plain": [
       "  war tweets                  date  daily return\n",
       "0     177226  2022-03-16T00:00:00Z     -2.350000\n",
       "1     167322  2022-03-17T00:00:00Z     -0.840000\n",
       "2     158344  2022-03-18T00:00:00Z     -2.490000\n",
       "3     136425  2022-03-21T00:00:00Z     -1.609999\n",
       "4     127261  2022-03-22T00:00:00Z     -1.080000"
      ]
     },
     "execution_count": 9,
     "metadata": {},
     "output_type": "execute_result"
    }
   ],
   "source": [
    "warTweetCount"
   ]
  },
  {
   "cell_type": "code",
   "execution_count": 10,
   "id": "97d8540e",
   "metadata": {},
   "outputs": [
    {
     "data": {
      "text/plain": [
       "<AxesSubplot:>"
      ]
     },
     "execution_count": 10,
     "metadata": {},
     "output_type": "execute_result"
    },
    {
     "data": {
      "image/png": "[encoded data removed]",
      "text/plain": [
       "<Figure size 720x720 with 2 Axes>"
      ]
     },
     "metadata": {
      "needs_background": "light"
     },
     "output_type": "display_data"
    }
   ],
   "source": [
    "warTweetCount=warTweetCount.apply(lambda x: pd.to_numeric(x, errors='ignore'))\n",
    "correlation_mat = warTweetCount.corr()\n",
    "\n",
    "plt.figure(figsize=(10, 10))\n",
    "sns.heatmap(correlation_mat, annot = True)"
   ]
  },
  {
   "cell_type": "markdown",
   "id": "dc47cd9c",
   "metadata": {},
   "source": [
    "# Finding the most used words in the war tweets"
   ]
  },
  {
   "cell_type": "code",
   "execution_count": 11,
   "id": "96c0c4a8",
   "metadata": {},
   "outputs": [
    {
     "data": {
      "text/html": [
       "<div>\n",
       "<style scoped>\n",
       "    .dataframe tbody tr th:only-of-type {\n",
       "        vertical-align: middle;\n",
       "    }\n",
       "\n",
       "    .dataframe tbody tr th {\n",
       "        vertical-align: top;\n",
       "    }\n",
       "\n",
       "    .dataframe thead th {\n",
       "        text-align: right;\n",
       "    }\n",
       "</style>\n",
       "<table border=\"1\" class=\"dataframe\">\n",
       "  <thead>\n",
       "    <tr style=\"text-align: right;\">\n",
       "      <th></th>\n",
       "      <th>text</th>\n",
       "      <th>date</th>\n",
       "    </tr>\n",
       "  </thead>\n",
       "  <tbody>\n",
       "    <tr>\n",
       "      <th>count</th>\n",
       "      <td>766578</td>\n",
       "      <td>766578</td>\n",
       "    </tr>\n",
       "    <tr>\n",
       "      <th>unique</th>\n",
       "      <td>741473</td>\n",
       "      <td>5</td>\n",
       "    </tr>\n",
       "    <tr>\n",
       "      <th>top</th>\n",
       "      <td>Tigray is facing mass starvation induced by th...</td>\n",
       "      <td>2022-03-16T00:00:00Z</td>\n",
       "    </tr>\n",
       "    <tr>\n",
       "      <th>freq</th>\n",
       "      <td>1278</td>\n",
       "      <td>177226</td>\n",
       "    </tr>\n",
       "  </tbody>\n",
       "</table>\n",
       "</div>"
      ],
      "text/plain": [
       "                                                     text  \\\n",
       "count                                              766578   \n",
       "unique                                             741473   \n",
       "top     Tigray is facing mass starvation induced by th...   \n",
       "freq                                                 1278   \n",
       "\n",
       "                        date  \n",
       "count                 766578  \n",
       "unique                     5  \n",
       "top     2022-03-16T00:00:00Z  \n",
       "freq                  177226  "
      ]
     },
     "execution_count": 11,
     "metadata": {},
     "output_type": "execute_result"
    }
   ],
   "source": [
    "warDf.describe()"
   ]
  },
  {
   "cell_type": "code",
   "execution_count": 99,
   "id": "527efa18",
   "metadata": {},
   "outputs": [],
   "source": [
    "import nltk\n",
    "from nltk.corpus import stopwords\n",
    "from collections import OrderedDict, defaultdict\n",
    "import itertools"
   ]
  },
  {
   "cell_type": "code",
   "execution_count": 13,
   "id": "17c1d17f",
   "metadata": {},
   "outputs": [],
   "source": [
    "stop = stopwords.words('english')"
   ]
  },
  {
   "cell_type": "code",
   "execution_count": 61,
   "id": "2d6d63ac",
   "metadata": {},
   "outputs": [],
   "source": [
    "stop.append('I')\n",
    "stop.append('&amp;')\n",
    "stop.append('-')\n",
    "stop.append('|')\n",
    "stop.append('The')\n",
    "stop.append('A')\n",
    "stop.append('Via')"
   ]
  },
  {
   "cell_type": "code",
   "execution_count": 82,
   "id": "edef1141",
   "metadata": {},
   "outputs": [
    {
     "name": "stderr",
     "output_type": "stream",
     "text": [
      "C:\\Users\\cchri\\AppData\\Local\\Temp/ipykernel_12396/2984813486.py:2: FutureWarning: The default value of regex will change from True to False in a future version.\n",
      "  warDf[\"text\"] = warDf[\"text\"].str.replace('[^\\w\\s]','')\n"
     ]
    }
   ],
   "source": [
    "topDailyOccurences = []\n",
    "warDf[\"text\"] = warDf[\"text\"].str.replace('[^\\w\\s]','')\n",
    "warDf[\"text\"] = warDf[\"text\"].str.lower()\n",
    "\n",
    "\n",
    "warDf['text without stopwords'] = warDf['text'].apply(lambda x: ' '.join([word for word in x.split() if word not in (stop)]))\n",
    "for i in range(len(startingDays)):\n",
    "    daily = []\n",
    "    dailyDf = warDf[warDf['date'] == startingDays[i]]\n",
    "    daily.append(dailyDf['text without stopwords'].str.split(expand=True).stack().value_counts()[:20].to_dict())\n",
    "    topDailyOccurences.append(daily)"
   ]
  },
  {
   "cell_type": "code",
   "execution_count": 95,
   "id": "9fa4feb0",
   "metadata": {},
   "outputs": [],
   "source": [
    "WordOccurenceDictTotal = topDailyOccurences[0][0]\n",
    "for i in range(len(topDailyOccurences)-1):\n",
    "    WordOccurenceDictTotal.update(topDailyOccurences[i][0])"
   ]
  },
  {
   "cell_type": "code",
   "execution_count": 100,
   "id": "736636b4",
   "metadata": {},
   "outputs": [
    {
     "data": {
      "text/plain": [
       "{'war': 127718,\n",
       " 'ukraine': 40671,\n",
       " 'russia': 18454,\n",
       " 'putin': 12566,\n",
       " 'russian': 11895,\n",
       " 'us': 8895,\n",
       " 'amp': 11513,\n",
       " 'world': 10964,\n",
       " 'people': 9160,\n",
       " 'criminal': 10557}"
      ]
     },
     "execution_count": 100,
     "metadata": {},
     "output_type": "execute_result"
    }
   ],
   "source": [
    "#Determining what words to use.\n",
    "dict(itertools.islice(WordOccurenceDictTotal.items(), 10))"
   ]
  },
  {
   "cell_type": "code",
   "execution_count": 101,
   "id": "c1197dcc",
   "metadata": {},
   "outputs": [],
   "source": [
    "listOfWords = ['war', 'ukraine', 'russia', 'putin', 'russian', 'us', 'amp', 'world', 'people', 'criminal']"
   ]
  },
  {
   "cell_type": "code",
   "execution_count": 106,
   "id": "8415b441",
   "metadata": {},
   "outputs": [
    {
     "name": "stderr",
     "output_type": "stream",
     "text": [
      "C:\\Users\\cchri\\AppData\\Local\\Temp/ipykernel_12396/204239142.py:2: FutureWarning: The default value of regex will change from True to False in a future version.\n",
      "  warDf[\"text\"] = warDf[\"text\"].str.replace('[^\\w\\s]','')\n"
     ]
    }
   ],
   "source": [
    "topDailyOccurences = []\n",
    "warDf[\"text\"] = warDf[\"text\"].str.replace('[^\\w\\s]','')\n",
    "warDf[\"text\"] = warDf[\"text\"].str.lower()\n",
    "\n",
    "warDf['text without stopwords'] = warDf['text'].apply(lambda x: ' '.join([word for word in x.split() if word not in (stop)]))\n",
    "warDf['text without stopwords'] = warDf['text without stopwords'].apply(lambda x: ' '.join([word for word in x.split() if word in (listOfWords)]))\n",
    "for i in range(len(startingDays)):\n",
    "    daily = []\n",
    "    dailyDf = warDf[warDf['date'] == startingDays[i]]\n",
    "    daily.append(dailyDf['text without stopwords'].str.split(expand=True).stack().value_counts().to_dict())\n",
    "    topDailyOccurences.append(daily)"
   ]
  },
  {
   "cell_type": "code",
   "execution_count": 107,
   "id": "8eb7c740",
   "metadata": {},
   "outputs": [
    {
     "data": {
      "text/plain": [
       "[[{'war': 168706,\n",
       "   'ukraine': 50664,\n",
       "   'russia': 25886,\n",
       "   'putin': 22973,\n",
       "   'russian': 15414,\n",
       "   'us': 15140,\n",
       "   'amp': 14931,\n",
       "   'world': 13365,\n",
       "   'people': 13177,\n",
       "   'criminal': 9946}],\n",
       " [{'war': 156377,\n",
       "   'ukraine': 49564,\n",
       "   'russia': 23817,\n",
       "   'putin': 21582,\n",
       "   'russian': 14764,\n",
       "   'world': 12995,\n",
       "   'us': 12992,\n",
       "   'people': 12832,\n",
       "   'amp': 12528,\n",
       "   'criminal': 10557}],\n",
       " [{'war': 145748,\n",
       "   'ukraine': 46834,\n",
       "   'russia': 20899,\n",
       "   'putin': 16538,\n",
       "   'amp': 14399,\n",
       "   'russian': 13931,\n",
       "   'people': 13610,\n",
       "   'world': 13197,\n",
       "   'us': 10799,\n",
       "   'criminal': 4548}],\n",
       " [{'war': 127718,\n",
       "   'ukraine': 40671,\n",
       "   'russia': 18454,\n",
       "   'putin': 12568,\n",
       "   'russian': 11895,\n",
       "   'amp': 11513,\n",
       "   'world': 10964,\n",
       "   'people': 9160,\n",
       "   'us': 8895,\n",
       "   'criminal': 3454}],\n",
       " [{'war': 119652,\n",
       "   'ukraine': 36674,\n",
       "   'russia': 16092,\n",
       "   'amp': 11260,\n",
       "   'russian': 10824,\n",
       "   'putin': 9920,\n",
       "   'us': 9770,\n",
       "   'world': 9514,\n",
       "   'people': 7528,\n",
       "   'criminal': 3245}]]"
      ]
     },
     "execution_count": 107,
     "metadata": {},
     "output_type": "execute_result"
    }
   ],
   "source": [
    "topDailyOccurences"
   ]
  },
  {
   "cell_type": "code",
   "execution_count": 110,
   "id": "4ed03d2d",
   "metadata": {},
   "outputs": [],
   "source": [
    "sortedList = []\n",
    "for i in range(len(topDailyOccurences)):\n",
    "    sorted_dict = {key: value for key, value in sorted(topDailyOccurences[i][0].items())}\n",
    "    sortedList.append(sorted_dict)"
   ]
  },
  {
   "cell_type": "code",
   "execution_count": 113,
   "id": "235bcd42",
   "metadata": {},
   "outputs": [],
   "source": [
    "sortedDf = pd.DataFrame(sortedList)"
   ]
  },
  {
   "cell_type": "code",
   "execution_count": 114,
   "id": "9f960371",
   "metadata": {},
   "outputs": [
    {
     "data": {
      "text/html": [
       "<div>\n",
       "<style scoped>\n",
       "    .dataframe tbody tr th:only-of-type {\n",
       "        vertical-align: middle;\n",
       "    }\n",
       "\n",
       "    .dataframe tbody tr th {\n",
       "        vertical-align: top;\n",
       "    }\n",
       "\n",
       "    .dataframe thead th {\n",
       "        text-align: right;\n",
       "    }\n",
       "</style>\n",
       "<table border=\"1\" class=\"dataframe\">\n",
       "  <thead>\n",
       "    <tr style=\"text-align: right;\">\n",
       "      <th></th>\n",
       "      <th>amp</th>\n",
       "      <th>criminal</th>\n",
       "      <th>people</th>\n",
       "      <th>putin</th>\n",
       "      <th>russia</th>\n",
       "      <th>russian</th>\n",
       "      <th>ukraine</th>\n",
       "      <th>us</th>\n",
       "      <th>war</th>\n",
       "      <th>world</th>\n",
       "    </tr>\n",
       "  </thead>\n",
       "  <tbody>\n",
       "    <tr>\n",
       "      <th>0</th>\n",
       "      <td>14931</td>\n",
       "      <td>9946</td>\n",
       "      <td>13177</td>\n",
       "      <td>22973</td>\n",
       "      <td>25886</td>\n",
       "      <td>15414</td>\n",
       "      <td>50664</td>\n",
       "      <td>15140</td>\n",
       "      <td>168706</td>\n",
       "      <td>13365</td>\n",
       "    </tr>\n",
       "    <tr>\n",
       "      <th>1</th>\n",
       "      <td>12528</td>\n",
       "      <td>10557</td>\n",
       "      <td>12832</td>\n",
       "      <td>21582</td>\n",
       "      <td>23817</td>\n",
       "      <td>14764</td>\n",
       "      <td>49564</td>\n",
       "      <td>12992</td>\n",
       "      <td>156377</td>\n",
       "      <td>12995</td>\n",
       "    </tr>\n",
       "    <tr>\n",
       "      <th>2</th>\n",
       "      <td>14399</td>\n",
       "      <td>4548</td>\n",
       "      <td>13610</td>\n",
       "      <td>16538</td>\n",
       "      <td>20899</td>\n",
       "      <td>13931</td>\n",
       "      <td>46834</td>\n",
       "      <td>10799</td>\n",
       "      <td>145748</td>\n",
       "      <td>13197</td>\n",
       "    </tr>\n",
       "    <tr>\n",
       "      <th>3</th>\n",
       "      <td>11513</td>\n",
       "      <td>3454</td>\n",
       "      <td>9160</td>\n",
       "      <td>12568</td>\n",
       "      <td>18454</td>\n",
       "      <td>11895</td>\n",
       "      <td>40671</td>\n",
       "      <td>8895</td>\n",
       "      <td>127718</td>\n",
       "      <td>10964</td>\n",
       "    </tr>\n",
       "    <tr>\n",
       "      <th>4</th>\n",
       "      <td>11260</td>\n",
       "      <td>3245</td>\n",
       "      <td>7528</td>\n",
       "      <td>9920</td>\n",
       "      <td>16092</td>\n",
       "      <td>10824</td>\n",
       "      <td>36674</td>\n",
       "      <td>9770</td>\n",
       "      <td>119652</td>\n",
       "      <td>9514</td>\n",
       "    </tr>\n",
       "  </tbody>\n",
       "</table>\n",
       "</div>"
      ],
      "text/plain": [
       "     amp  criminal  people  putin  russia  russian  ukraine     us     war  \\\n",
       "0  14931      9946   13177  22973   25886    15414    50664  15140  168706   \n",
       "1  12528     10557   12832  21582   23817    14764    49564  12992  156377   \n",
       "2  14399      4548   13610  16538   20899    13931    46834  10799  145748   \n",
       "3  11513      3454    9160  12568   18454    11895    40671   8895  127718   \n",
       "4  11260      3245    7528   9920   16092    10824    36674   9770  119652   \n",
       "\n",
       "   world  \n",
       "0  13365  \n",
       "1  12995  \n",
       "2  13197  \n",
       "3  10964  \n",
       "4   9514  "
      ]
     },
     "execution_count": 114,
     "metadata": {},
     "output_type": "execute_result"
    }
   ],
   "source": [
    "sortedDf"
   ]
  },
  {
   "cell_type": "code",
   "execution_count": 115,
   "id": "63571ace",
   "metadata": {},
   "outputs": [],
   "source": [
    "for i in sortedDf.index:\n",
    "    sortedDf.at[i, 'vix net effect']=vixDf.at[i, 'Daily Return']=vixDf.at[i, 'Close']-vixDf.at[i, 'Open'].astype(float)"
   ]
  },
  {
   "cell_type": "code",
   "execution_count": 116,
   "id": "3f2aac6f",
   "metadata": {},
   "outputs": [
    {
     "data": {
      "text/html": [
       "<div>\n",
       "<style scoped>\n",
       "    .dataframe tbody tr th:only-of-type {\n",
       "        vertical-align: middle;\n",
       "    }\n",
       "\n",
       "    .dataframe tbody tr th {\n",
       "        vertical-align: top;\n",
       "    }\n",
       "\n",
       "    .dataframe thead th {\n",
       "        text-align: right;\n",
       "    }\n",
       "</style>\n",
       "<table border=\"1\" class=\"dataframe\">\n",
       "  <thead>\n",
       "    <tr style=\"text-align: right;\">\n",
       "      <th></th>\n",
       "      <th>amp</th>\n",
       "      <th>criminal</th>\n",
       "      <th>people</th>\n",
       "      <th>putin</th>\n",
       "      <th>russia</th>\n",
       "      <th>russian</th>\n",
       "      <th>ukraine</th>\n",
       "      <th>us</th>\n",
       "      <th>war</th>\n",
       "      <th>world</th>\n",
       "      <th>vix net effect</th>\n",
       "    </tr>\n",
       "  </thead>\n",
       "  <tbody>\n",
       "    <tr>\n",
       "      <th>0</th>\n",
       "      <td>14931</td>\n",
       "      <td>9946</td>\n",
       "      <td>13177</td>\n",
       "      <td>22973</td>\n",
       "      <td>25886</td>\n",
       "      <td>15414</td>\n",
       "      <td>50664</td>\n",
       "      <td>15140</td>\n",
       "      <td>168706</td>\n",
       "      <td>13365</td>\n",
       "      <td>-2.350000</td>\n",
       "    </tr>\n",
       "    <tr>\n",
       "      <th>1</th>\n",
       "      <td>12528</td>\n",
       "      <td>10557</td>\n",
       "      <td>12832</td>\n",
       "      <td>21582</td>\n",
       "      <td>23817</td>\n",
       "      <td>14764</td>\n",
       "      <td>49564</td>\n",
       "      <td>12992</td>\n",
       "      <td>156377</td>\n",
       "      <td>12995</td>\n",
       "      <td>-0.840000</td>\n",
       "    </tr>\n",
       "    <tr>\n",
       "      <th>2</th>\n",
       "      <td>14399</td>\n",
       "      <td>4548</td>\n",
       "      <td>13610</td>\n",
       "      <td>16538</td>\n",
       "      <td>20899</td>\n",
       "      <td>13931</td>\n",
       "      <td>46834</td>\n",
       "      <td>10799</td>\n",
       "      <td>145748</td>\n",
       "      <td>13197</td>\n",
       "      <td>-2.490000</td>\n",
       "    </tr>\n",
       "    <tr>\n",
       "      <th>3</th>\n",
       "      <td>11513</td>\n",
       "      <td>3454</td>\n",
       "      <td>9160</td>\n",
       "      <td>12568</td>\n",
       "      <td>18454</td>\n",
       "      <td>11895</td>\n",
       "      <td>40671</td>\n",
       "      <td>8895</td>\n",
       "      <td>127718</td>\n",
       "      <td>10964</td>\n",
       "      <td>-1.609999</td>\n",
       "    </tr>\n",
       "    <tr>\n",
       "      <th>4</th>\n",
       "      <td>11260</td>\n",
       "      <td>3245</td>\n",
       "      <td>7528</td>\n",
       "      <td>9920</td>\n",
       "      <td>16092</td>\n",
       "      <td>10824</td>\n",
       "      <td>36674</td>\n",
       "      <td>9770</td>\n",
       "      <td>119652</td>\n",
       "      <td>9514</td>\n",
       "      <td>-1.080000</td>\n",
       "    </tr>\n",
       "  </tbody>\n",
       "</table>\n",
       "</div>"
      ],
      "text/plain": [
       "     amp  criminal  people  putin  russia  russian  ukraine     us     war  \\\n",
       "0  14931      9946   13177  22973   25886    15414    50664  15140  168706   \n",
       "1  12528     10557   12832  21582   23817    14764    49564  12992  156377   \n",
       "2  14399      4548   13610  16538   20899    13931    46834  10799  145748   \n",
       "3  11513      3454    9160  12568   18454    11895    40671   8895  127718   \n",
       "4  11260      3245    7528   9920   16092    10824    36674   9770  119652   \n",
       "\n",
       "   world  vix net effect  \n",
       "0  13365       -2.350000  \n",
       "1  12995       -0.840000  \n",
       "2  13197       -2.490000  \n",
       "3  10964       -1.609999  \n",
       "4   9514       -1.080000  "
      ]
     },
     "execution_count": 116,
     "metadata": {},
     "output_type": "execute_result"
    }
   ],
   "source": [
    "sortedDf"
   ]
  },
  {
   "cell_type": "code",
   "execution_count": 125,
   "id": "64af7b65",
   "metadata": {},
   "outputs": [
    {
     "data": {
      "text/plain": [
       "<AxesSubplot:>"
      ]
     },
     "execution_count": 125,
     "metadata": {},
     "output_type": "execute_result"
    },
    {
     "data": {
      "image/png": "[encoded data removed]",
      "text/plain": [
       "<Figure size 720x720 with 2 Axes>"
      ]
     },
     "metadata": {
      "needs_background": "light"
     },
     "output_type": "display_data"
    }
   ],
   "source": [
    "correlation_pearson = sortedDf.corr(method='pearson')\n",
    "\n",
    "plt.figure(figsize=(10, 10))\n",
    "sns.heatmap(correlation_pearson, annot = True)"
   ]
  },
  {
   "cell_type": "code",
   "execution_count": 132,
   "id": "8a790294",
   "metadata": {},
   "outputs": [],
   "source": [
    "from scipy.stats import pearsonr\n",
    "\n",
    "def calculate_pvalues(df):\n",
    "    df = df.dropna()._get_numeric_data()\n",
    "    dfcols = pd.DataFrame(columns=df.columns)\n",
    "    pvalues = dfcols.transpose().join(dfcols, how='outer')\n",
    "    for r in df.columns:\n",
    "        for c in df.columns:\n",
    "            pvalues[r][c] = round(pearsonr(df[r], df[c])[1], 4)\n",
    "    return pvalues"
   ]
  },
  {
   "cell_type": "code",
   "execution_count": 137,
   "id": "c662d486",
   "metadata": {},
   "outputs": [
    {
     "data": {
      "text/html": [
       "<div>\n",
       "<style scoped>\n",
       "    .dataframe tbody tr th:only-of-type {\n",
       "        vertical-align: middle;\n",
       "    }\n",
       "\n",
       "    .dataframe tbody tr th {\n",
       "        vertical-align: top;\n",
       "    }\n",
       "\n",
       "    .dataframe thead th {\n",
       "        text-align: right;\n",
       "    }\n",
       "</style>\n",
       "<table border=\"1\" class=\"dataframe\">\n",
       "  <thead>\n",
       "    <tr style=\"text-align: right;\">\n",
       "      <th></th>\n",
       "      <th>amp</th>\n",
       "      <th>criminal</th>\n",
       "      <th>people</th>\n",
       "      <th>putin</th>\n",
       "      <th>russia</th>\n",
       "      <th>russian</th>\n",
       "      <th>ukraine</th>\n",
       "      <th>us</th>\n",
       "      <th>war</th>\n",
       "      <th>world</th>\n",
       "      <th>vix net effect</th>\n",
       "    </tr>\n",
       "  </thead>\n",
       "  <tbody>\n",
       "    <tr>\n",
       "      <th>amp</th>\n",
       "      <td>0.0</td>\n",
       "      <td>0.3849</td>\n",
       "      <td>0.0561</td>\n",
       "      <td>0.1573</td>\n",
       "      <td>0.1271</td>\n",
       "      <td>0.0851</td>\n",
       "      <td>0.1005</td>\n",
       "      <td>0.1675</td>\n",
       "      <td>0.0861</td>\n",
       "      <td>0.0634</td>\n",
       "      <td>0.0988</td>\n",
       "    </tr>\n",
       "    <tr>\n",
       "      <th>criminal</th>\n",
       "      <td>0.3849</td>\n",
       "      <td>0.0</td>\n",
       "      <td>0.2041</td>\n",
       "      <td>0.0158</td>\n",
       "      <td>0.028</td>\n",
       "      <td>0.0545</td>\n",
       "      <td>0.0598</td>\n",
       "      <td>0.028</td>\n",
       "      <td>0.0389</td>\n",
       "      <td>0.1689</td>\n",
       "      <td>0.9379</td>\n",
       "    </tr>\n",
       "    <tr>\n",
       "      <th>people</th>\n",
       "      <td>0.0561</td>\n",
       "      <td>0.2041</td>\n",
       "      <td>0.0</td>\n",
       "      <td>0.0577</td>\n",
       "      <td>0.0614</td>\n",
       "      <td>0.017</td>\n",
       "      <td>0.0133</td>\n",
       "      <td>0.1833</td>\n",
       "      <td>0.0443</td>\n",
       "      <td>0.001</td>\n",
       "      <td>0.3621</td>\n",
       "    </tr>\n",
       "    <tr>\n",
       "      <th>putin</th>\n",
       "      <td>0.1573</td>\n",
       "      <td>0.0158</td>\n",
       "      <td>0.0577</td>\n",
       "      <td>0.0</td>\n",
       "      <td>0.0006</td>\n",
       "      <td>0.0027</td>\n",
       "      <td>0.0042</td>\n",
       "      <td>0.0245</td>\n",
       "      <td>0.0015</td>\n",
       "      <td>0.0372</td>\n",
       "      <td>0.6713</td>\n",
       "    </tr>\n",
       "    <tr>\n",
       "      <th>russia</th>\n",
       "      <td>0.1271</td>\n",
       "      <td>0.028</td>\n",
       "      <td>0.0614</td>\n",
       "      <td>0.0006</td>\n",
       "      <td>0.0</td>\n",
       "      <td>0.0031</td>\n",
       "      <td>0.0055</td>\n",
       "      <td>0.0231</td>\n",
       "      <td>0.0005</td>\n",
       "      <td>0.0365</td>\n",
       "      <td>0.5768</td>\n",
       "    </tr>\n",
       "    <tr>\n",
       "      <th>russian</th>\n",
       "      <td>0.0851</td>\n",
       "      <td>0.0545</td>\n",
       "      <td>0.017</td>\n",
       "      <td>0.0027</td>\n",
       "      <td>0.0031</td>\n",
       "      <td>0.0</td>\n",
       "      <td>0.0001</td>\n",
       "      <td>0.0482</td>\n",
       "      <td>0.0015</td>\n",
       "      <td>0.0086</td>\n",
       "      <td>0.5063</td>\n",
       "    </tr>\n",
       "    <tr>\n",
       "      <th>ukraine</th>\n",
       "      <td>0.1005</td>\n",
       "      <td>0.0598</td>\n",
       "      <td>0.0133</td>\n",
       "      <td>0.0042</td>\n",
       "      <td>0.0055</td>\n",
       "      <td>0.0001</td>\n",
       "      <td>0.0</td>\n",
       "      <td>0.0678</td>\n",
       "      <td>0.0043</td>\n",
       "      <td>0.0056</td>\n",
       "      <td>0.5274</td>\n",
       "    </tr>\n",
       "    <tr>\n",
       "      <th>us</th>\n",
       "      <td>0.1675</td>\n",
       "      <td>0.028</td>\n",
       "      <td>0.1833</td>\n",
       "      <td>0.0245</td>\n",
       "      <td>0.0231</td>\n",
       "      <td>0.0482</td>\n",
       "      <td>0.0678</td>\n",
       "      <td>0.0</td>\n",
       "      <td>0.0185</td>\n",
       "      <td>0.1599</td>\n",
       "      <td>0.6903</td>\n",
       "    </tr>\n",
       "    <tr>\n",
       "      <th>war</th>\n",
       "      <td>0.0861</td>\n",
       "      <td>0.0389</td>\n",
       "      <td>0.0443</td>\n",
       "      <td>0.0015</td>\n",
       "      <td>0.0005</td>\n",
       "      <td>0.0015</td>\n",
       "      <td>0.0043</td>\n",
       "      <td>0.0185</td>\n",
       "      <td>0.0</td>\n",
       "      <td>0.0283</td>\n",
       "      <td>0.5138</td>\n",
       "    </tr>\n",
       "    <tr>\n",
       "      <th>world</th>\n",
       "      <td>0.0634</td>\n",
       "      <td>0.1689</td>\n",
       "      <td>0.001</td>\n",
       "      <td>0.0372</td>\n",
       "      <td>0.0365</td>\n",
       "      <td>0.0086</td>\n",
       "      <td>0.0056</td>\n",
       "      <td>0.1599</td>\n",
       "      <td>0.0283</td>\n",
       "      <td>0.0</td>\n",
       "      <td>0.3675</td>\n",
       "    </tr>\n",
       "    <tr>\n",
       "      <th>vix net effect</th>\n",
       "      <td>0.0988</td>\n",
       "      <td>0.9379</td>\n",
       "      <td>0.3621</td>\n",
       "      <td>0.6713</td>\n",
       "      <td>0.5768</td>\n",
       "      <td>0.5063</td>\n",
       "      <td>0.5274</td>\n",
       "      <td>0.6903</td>\n",
       "      <td>0.5138</td>\n",
       "      <td>0.3675</td>\n",
       "      <td>0.0</td>\n",
       "    </tr>\n",
       "  </tbody>\n",
       "</table>\n",
       "</div>"
      ],
      "text/plain": [
       "                   amp criminal  people   putin  russia russian ukraine  \\\n",
       "amp                0.0   0.3849  0.0561  0.1573  0.1271  0.0851  0.1005   \n",
       "criminal        0.3849      0.0  0.2041  0.0158   0.028  0.0545  0.0598   \n",
       "people          0.0561   0.2041     0.0  0.0577  0.0614   0.017  0.0133   \n",
       "putin           0.1573   0.0158  0.0577     0.0  0.0006  0.0027  0.0042   \n",
       "russia          0.1271    0.028  0.0614  0.0006     0.0  0.0031  0.0055   \n",
       "russian         0.0851   0.0545   0.017  0.0027  0.0031     0.0  0.0001   \n",
       "ukraine         0.1005   0.0598  0.0133  0.0042  0.0055  0.0001     0.0   \n",
       "us              0.1675    0.028  0.1833  0.0245  0.0231  0.0482  0.0678   \n",
       "war             0.0861   0.0389  0.0443  0.0015  0.0005  0.0015  0.0043   \n",
       "world           0.0634   0.1689   0.001  0.0372  0.0365  0.0086  0.0056   \n",
       "vix net effect  0.0988   0.9379  0.3621  0.6713  0.5768  0.5063  0.5274   \n",
       "\n",
       "                    us     war   world vix net effect  \n",
       "amp             0.1675  0.0861  0.0634         0.0988  \n",
       "criminal         0.028  0.0389  0.1689         0.9379  \n",
       "people          0.1833  0.0443   0.001         0.3621  \n",
       "putin           0.0245  0.0015  0.0372         0.6713  \n",
       "russia          0.0231  0.0005  0.0365         0.5768  \n",
       "russian         0.0482  0.0015  0.0086         0.5063  \n",
       "ukraine         0.0678  0.0043  0.0056         0.5274  \n",
       "us                 0.0  0.0185  0.1599         0.6903  \n",
       "war             0.0185     0.0  0.0283         0.5138  \n",
       "world           0.1599  0.0283     0.0         0.3675  \n",
       "vix net effect  0.6903  0.5138  0.3675            0.0  "
      ]
     },
     "execution_count": 137,
     "metadata": {},
     "output_type": "execute_result"
    }
   ],
   "source": [
    "pvalues = calculate_pvalues(sortedDf)\n",
    "pvalues"
   ]
  }
 ],
 "metadata": {
  "kernelspec": {
   "display_name": "Python 3 (ipykernel)",
   "language": "python",
   "name": "python3"
  },
  "language_info": {
   "codemirror_mode": {
    "name": "ipython",
    "version": 3
   },
   "file_extension": ".py",
   "mimetype": "text/x-python",
   "name": "python",
   "nbconvert_exporter": "python",
   "pygments_lexer": "ipython3",
   "version": "3.9.7"
  }
 },
 "nbformat": 4,
 "nbformat_minor": 5
}
